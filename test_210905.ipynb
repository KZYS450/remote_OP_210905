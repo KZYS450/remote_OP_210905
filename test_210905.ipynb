{
    "cells": [
        {
            "cell_type": "code",
            "execution_count": 1,
            "source": [
                "print('hello world')\n",
                "print(1+4)\n",
                "\n",
                "import torch"
            ],
            "outputs": [
                {
                    "output_type": "stream",
                    "name": "stdout",
                    "text": [
                        "hello world\n",
                        "2\n"
                    ]
                }
            ],
            "metadata": {}
        },
        {
            "cell_type": "code",
            "execution_count": null,
            "source": [],
            "outputs": [],
            "metadata": {}
        }
    ],
    "metadata": {
        "orig_nbformat": 4,
        "language_info": {
            "name": "python",
            "version": "3.9",
            "mimetype": "text/x-python",
            "codemirror_mode": {
                "name": "ipython",
                "version": 3
            },
            "pygments_lexer": "ipython3",
            "nbconvert_exporter": "python",
            "file_extension": ".py"
        },
        "kernelspec": {
            "name": "python3",
            "display_name": "Python 3.9  ('env_210624': conda)"
        },
        "interpreter": {
            "hash": "7b33ea47553b444b2dba1151e39b170647b43f9f1eb0d3325c9d1f7814efc5bc"
        }
    },
    "nbformat": 4,
    "nbformat_minor": 2
}